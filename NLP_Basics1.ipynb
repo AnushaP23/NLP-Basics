{
  "nbformat": 4,
  "nbformat_minor": 0,
  "metadata": {
    "colab": {
      "provenance": []
    },
    "kernelspec": {
      "name": "python3",
      "display_name": "Python 3"
    },
    "language_info": {
      "name": "python"
    }
  },
  "cells": [
    {
      "cell_type": "code",
      "execution_count": null,
      "metadata": {
        "id": "6dtGTHa2-vJV",
        "colab": {
          "base_uri": "https://localhost:8080/"
        },
        "outputId": "0bd05793-499b-4cec-eafb-11ad1831ea65"
      },
      "outputs": [
        {
          "output_type": "stream",
          "name": "stdout",
          "text": [
            "Requirement already satisfied: nltk in /usr/local/lib/python3.10/dist-packages (3.8.1)\n",
            "Requirement already satisfied: click in /usr/local/lib/python3.10/dist-packages (from nltk) (8.1.7)\n",
            "Requirement already satisfied: joblib in /usr/local/lib/python3.10/dist-packages (from nltk) (1.3.2)\n",
            "Requirement already satisfied: regex>=2021.8.3 in /usr/local/lib/python3.10/dist-packages (from nltk) (2023.12.25)\n",
            "Requirement already satisfied: tqdm in /usr/local/lib/python3.10/dist-packages (from nltk) (4.66.2)\n"
          ]
        }
      ],
      "source": [
        "!pip install nltk\n"
      ]
    },
    {
      "cell_type": "code",
      "source": [
        "paragraph = \"\"\"Narendra Damodardas Modi (Gujarati: [ˈnəɾendɾə dɑmodəɾˈdɑs ˈmodiː] ⓘ; born 17 September 1950)[b] is an Indian politician who has served as the 14th prime minister of India since May 2014. Modi was the chief minister of Gujarat from 2001 to 2014 and is the Member of Parliament (MP) for Varanasi. He is a member of the Bharatiya Janata Party (BJP) and of the Rashtriya Swayamsevak Sangh (RSS), a right wing Hindu nationalist paramilitary volunteer organisation. He is the longest-serving prime minister from outside the Indian National Congress.\n",
        "\n",
        "Modi was born and raised in Vadnagar in northeastern Gujarat, where he completed his secondary education. He was introduced to the RSS at the age of eight. His account of helping his father sell tea at the Vadnagar railway station has not been reliably corroborated. At age 18, he was married to Jashodaben Modi, whom he abandoned soon after, only publicly acknowledging her four decades later when legally required to do so. Modi became a full-time worker for the RSS in Gujarat in 1971. The RSS assigned him to the BJP in 1985 and he held several positions within the party hierarchy until 2001, rising to the rank of general secretary.[c]\"\"\""
      ],
      "metadata": {
        "id": "avF3uqLx9l8C"
      },
      "execution_count": null,
      "outputs": []
    },
    {
      "cell_type": "code",
      "source": [
        "paragraph"
      ],
      "metadata": {
        "colab": {
          "base_uri": "https://localhost:8080/",
          "height": 143
        },
        "id": "bSfMroyf-IgP",
        "outputId": "d5db1c0e-ae62-45c1-f4cc-3cd8bf2f4813"
      },
      "execution_count": null,
      "outputs": [
        {
          "output_type": "execute_result",
          "data": {
            "text/plain": [
              "'Narendra Damodardas Modi (Gujarati: [ˈnəɾendɾə dɑmodəɾˈdɑs ˈmodiː] ⓘ; born 17 September 1950)[b] is an Indian politician who has served as the 14th prime minister of India since May 2014. Modi was the chief minister of Gujarat from 2001 to 2014 and is the Member of Parliament (MP) for Varanasi. He is a member of the Bharatiya Janata Party (BJP) and of the Rashtriya Swayamsevak Sangh (RSS), a right wing Hindu nationalist paramilitary volunteer organisation. He is the longest-serving prime minister from outside the Indian National Congress.\\n\\nModi was born and raised in Vadnagar in northeastern Gujarat, where he completed his secondary education. He was introduced to the RSS at the age of eight. His account of helping his father sell tea at the Vadnagar railway station has not been reliably corroborated. At age 18, he was married to Jashodaben Modi, whom he abandoned soon after, only publicly acknowledging her four decades later when legally required to do so. Modi became a full-time worker for the RSS in Gujarat in 1971. The RSS assigned him to the BJP in 1985 and he held several positions within the party hierarchy until 2001, rising to the rank of general secretary.[c]'"
            ],
            "application/vnd.google.colaboratory.intrinsic+json": {
              "type": "string"
            }
          },
          "metadata": {},
          "execution_count": 3
        }
      ]
    },
    {
      "cell_type": "code",
      "source": [
        "import nltk\n",
        "from nltk.stem import PorterStemmer #For stemming\n",
        "from nltk.corpus import stopwords"
      ],
      "metadata": {
        "id": "unX6-c_T-Jz2"
      },
      "execution_count": null,
      "outputs": []
    },
    {
      "cell_type": "code",
      "source": [
        "## Tokenizatin -- covert paragraph-sentences-focus on words\n",
        "\n",
        "nltk.download('punkt')\n",
        "sentences = nltk.sent_tokenize(paragraph) #Used for converting paragraph into sentences\n",
        "\n"
      ],
      "metadata": {
        "colab": {
          "base_uri": "https://localhost:8080/"
        },
        "id": "RB-YRjR0-cFh",
        "outputId": "80d3a36c-762c-4eff-82e8-4427474f1aed"
      },
      "execution_count": null,
      "outputs": [
        {
          "output_type": "stream",
          "name": "stderr",
          "text": [
            "[nltk_data] Downloading package punkt to /root/nltk_data...\n",
            "[nltk_data]   Package punkt is already up-to-date!\n"
          ]
        }
      ]
    },
    {
      "cell_type": "code",
      "source": [
        "sentences"
      ],
      "metadata": {
        "colab": {
          "base_uri": "https://localhost:8080/"
        },
        "id": "rb2t2fJo_LCd",
        "outputId": "761a0486-c64f-45b7-8345-7827f82c6f0e"
      },
      "execution_count": null,
      "outputs": [
        {
          "output_type": "execute_result",
          "data": {
            "text/plain": [
              "['Narendra Damodardas Modi (Gujarati: [ˈnəɾendɾə dɑmodəɾˈdɑs ˈmodiː] ⓘ; born 17 September 1950)[b] is an Indian politician who has served as the 14th prime minister of India since May 2014.',\n",
              " 'Modi was the chief minister of Gujarat from 2001 to 2014 and is the Member of Parliament (MP) for Varanasi.',\n",
              " 'He is a member of the Bharatiya Janata Party (BJP) and of the Rashtriya Swayamsevak Sangh (RSS), a right wing Hindu nationalist paramilitary volunteer organisation.',\n",
              " 'He is the longest-serving prime minister from outside the Indian National Congress.',\n",
              " 'Modi was born and raised in Vadnagar in northeastern Gujarat, where he completed his secondary education.',\n",
              " 'He was introduced to the RSS at the age of eight.',\n",
              " 'His account of helping his father sell tea at the Vadnagar railway station has not been reliably corroborated.',\n",
              " 'At age 18, he was married to Jashodaben Modi, whom he abandoned soon after, only publicly acknowledging her four decades later when legally required to do so.',\n",
              " 'Modi became a full-time worker for the RSS in Gujarat in 1971.',\n",
              " 'The RSS assigned him to the BJP in 1985 and he held several positions within the party hierarchy until 2001, rising to the rank of general secretary.',\n",
              " '[c]']"
            ]
          },
          "metadata": {},
          "execution_count": 10
        }
      ]
    },
    {
      "cell_type": "code",
      "source": [
        "type(sentences)"
      ],
      "metadata": {
        "colab": {
          "base_uri": "https://localhost:8080/"
        },
        "id": "RCf9F1yX_X-c",
        "outputId": "e31f6f76-9df8-478b-b862-64975295f6b9"
      },
      "execution_count": null,
      "outputs": [
        {
          "output_type": "execute_result",
          "data": {
            "text/plain": [
              "list"
            ]
          },
          "metadata": {},
          "execution_count": 12
        }
      ]
    },
    {
      "cell_type": "code",
      "source": [
        "print(sentences)"
      ],
      "metadata": {
        "colab": {
          "base_uri": "https://localhost:8080/"
        },
        "id": "qa53i8-u_xSf",
        "outputId": "1394de1d-ff5f-41f5-f46b-bbfca81040ed"
      },
      "execution_count": null,
      "outputs": [
        {
          "output_type": "stream",
          "name": "stdout",
          "text": [
            "['Narendra Damodardas Modi (Gujarati: [ˈnəɾendɾə dɑmodəɾˈdɑs ˈmodiː] ⓘ; born 17 September 1950)[b] is an Indian politician who has served as the 14th prime minister of India since May 2014.', 'Modi was the chief minister of Gujarat from 2001 to 2014 and is the Member of Parliament (MP) for Varanasi.', 'He is a member of the Bharatiya Janata Party (BJP) and of the Rashtriya Swayamsevak Sangh (RSS), a right wing Hindu nationalist paramilitary volunteer organisation.', 'He is the longest-serving prime minister from outside the Indian National Congress.', 'Modi was born and raised in Vadnagar in northeastern Gujarat, where he completed his secondary education.', 'He was introduced to the RSS at the age of eight.', 'His account of helping his father sell tea at the Vadnagar railway station has not been reliably corroborated.', 'At age 18, he was married to Jashodaben Modi, whom he abandoned soon after, only publicly acknowledging her four decades later when legally required to do so.', 'Modi became a full-time worker for the RSS in Gujarat in 1971.', 'The RSS assigned him to the BJP in 1985 and he held several positions within the party hierarchy until 2001, rising to the rank of general secretary.', '[c]']\n"
          ]
        }
      ]
    },
    {
      "cell_type": "code",
      "source": [
        "stemmer = PorterStemmer()"
      ],
      "metadata": {
        "id": "Bz2-nQPACFRe"
      },
      "execution_count": null,
      "outputs": []
    },
    {
      "cell_type": "code",
      "source": [
        "stemmer.stem('going')"
      ],
      "metadata": {
        "colab": {
          "base_uri": "https://localhost:8080/",
          "height": 35
        },
        "id": "y9tnCgoKD2eV",
        "outputId": "8aa504df-b9e4-449e-a8a2-cdba96d8e140"
      },
      "execution_count": null,
      "outputs": [
        {
          "output_type": "execute_result",
          "data": {
            "text/plain": [
              "'go'"
            ],
            "application/vnd.google.colaboratory.intrinsic+json": {
              "type": "string"
            }
          },
          "metadata": {},
          "execution_count": 15
        }
      ]
    },
    {
      "cell_type": "code",
      "source": [
        "stemmer.stem('facial')"
      ],
      "metadata": {
        "colab": {
          "base_uri": "https://localhost:8080/",
          "height": 35
        },
        "id": "dHJ-ZqhLD31V",
        "outputId": "a7eafa1f-d10a-43f2-cdec-06a6293d22ae"
      },
      "execution_count": null,
      "outputs": [
        {
          "output_type": "execute_result",
          "data": {
            "text/plain": [
              "'facial'"
            ],
            "application/vnd.google.colaboratory.intrinsic+json": {
              "type": "string"
            }
          },
          "metadata": {},
          "execution_count": 17
        }
      ]
    },
    {
      "cell_type": "code",
      "source": [
        "stemmer.stem('drinking')"
      ],
      "metadata": {
        "colab": {
          "base_uri": "https://localhost:8080/",
          "height": 35
        },
        "id": "xj-k9cR9D7Hg",
        "outputId": "9210c654-35b4-4bb7-b772-b594332dce7e"
      },
      "execution_count": null,
      "outputs": [
        {
          "output_type": "execute_result",
          "data": {
            "text/plain": [
              "'drink'"
            ],
            "application/vnd.google.colaboratory.intrinsic+json": {
              "type": "string"
            }
          },
          "metadata": {},
          "execution_count": 18
        }
      ]
    },
    {
      "cell_type": "code",
      "source": [
        "stemmer.stem('history')"
      ],
      "metadata": {
        "id": "0irMhMbqD96k",
        "outputId": "73de555e-dfd1-434a-b8fa-5567e119fad4",
        "colab": {
          "base_uri": "https://localhost:8080/",
          "height": 35
        }
      },
      "execution_count": null,
      "outputs": [
        {
          "output_type": "execute_result",
          "data": {
            "text/plain": [
              "'histori'"
            ],
            "application/vnd.google.colaboratory.intrinsic+json": {
              "type": "string"
            }
          },
          "metadata": {},
          "execution_count": 19
        }
      ]
    },
    {
      "cell_type": "code",
      "source": [
        "from nltk.stem import WordNetLemmatizer"
      ],
      "metadata": {
        "id": "PQ8Xqam_EAqG"
      },
      "execution_count": null,
      "outputs": []
    },
    {
      "cell_type": "code",
      "source": [
        "lemmatizer = WordNetLemmatizer()"
      ],
      "metadata": {
        "id": "EEvKC-MENml6"
      },
      "execution_count": null,
      "outputs": []
    },
    {
      "cell_type": "code",
      "source": [
        "import nltk\n",
        "nltk.download('wordnet')"
      ],
      "metadata": {
        "colab": {
          "base_uri": "https://localhost:8080/"
        },
        "id": "gj6ivsHrOHR1",
        "outputId": "0bad76cc-1623-4c1b-df28-e4131b0a57ad"
      },
      "execution_count": null,
      "outputs": [
        {
          "output_type": "stream",
          "name": "stderr",
          "text": [
            "[nltk_data] Downloading package wordnet to /root/nltk_data...\n"
          ]
        },
        {
          "output_type": "execute_result",
          "data": {
            "text/plain": [
              "True"
            ]
          },
          "metadata": {},
          "execution_count": 28
        }
      ]
    },
    {
      "cell_type": "code",
      "source": [
        "lemmatizer.lemmatize('history')"
      ],
      "metadata": {
        "colab": {
          "base_uri": "https://localhost:8080/",
          "height": 35
        },
        "id": "56oDc49uNy61",
        "outputId": "8199d0ff-f8d0-4e90-b064-2512dbba09f8"
      },
      "execution_count": null,
      "outputs": [
        {
          "output_type": "execute_result",
          "data": {
            "text/plain": [
              "'history'"
            ],
            "application/vnd.google.colaboratory.intrinsic+json": {
              "type": "string"
            }
          },
          "metadata": {},
          "execution_count": 29
        }
      ]
    },
    {
      "cell_type": "code",
      "source": [
        "lemmatizer.lemmatize('going')"
      ],
      "metadata": {
        "colab": {
          "base_uri": "https://localhost:8080/",
          "height": 35
        },
        "id": "_ugfzAQHN79Y",
        "outputId": "8d27aafe-0906-412a-b2a7-e48859781637"
      },
      "execution_count": null,
      "outputs": [
        {
          "output_type": "execute_result",
          "data": {
            "text/plain": [
              "'going'"
            ],
            "application/vnd.google.colaboratory.intrinsic+json": {
              "type": "string"
            }
          },
          "metadata": {},
          "execution_count": 30
        }
      ]
    },
    {
      "cell_type": "code",
      "source": [
        "lemmatizer.lemmatize('drinking')"
      ],
      "metadata": {
        "colab": {
          "base_uri": "https://localhost:8080/",
          "height": 35
        },
        "id": "wUMk-wShOOyZ",
        "outputId": "7bd6b629-c2ad-4c30-8bf0-1eb48fefeea3"
      },
      "execution_count": null,
      "outputs": [
        {
          "output_type": "execute_result",
          "data": {
            "text/plain": [
              "'drinking'"
            ],
            "application/vnd.google.colaboratory.intrinsic+json": {
              "type": "string"
            }
          },
          "metadata": {},
          "execution_count": 31
        }
      ]
    },
    {
      "cell_type": "code",
      "source": [
        "lemmatizer.lemmatize('goes')"
      ],
      "metadata": {
        "colab": {
          "base_uri": "https://localhost:8080/",
          "height": 35
        },
        "id": "JXLdRVK5OT4j",
        "outputId": "9a4bb668-ea71-4c7b-9798-b578f74f9a89"
      },
      "execution_count": null,
      "outputs": [
        {
          "output_type": "execute_result",
          "data": {
            "text/plain": [
              "'go'"
            ],
            "application/vnd.google.colaboratory.intrinsic+json": {
              "type": "string"
            }
          },
          "metadata": {},
          "execution_count": 32
        }
      ]
    },
    {
      "cell_type": "code",
      "source": [
        "len(sentences)"
      ],
      "metadata": {
        "colab": {
          "base_uri": "https://localhost:8080/"
        },
        "id": "UFN707PXOtdn",
        "outputId": "15d4ead3-f8b7-43cf-87d4-77be46dd8d92"
      },
      "execution_count": null,
      "outputs": [
        {
          "output_type": "execute_result",
          "data": {
            "text/plain": [
              "11"
            ]
          },
          "metadata": {},
          "execution_count": 33
        }
      ]
    },
    {
      "cell_type": "code",
      "source": [
        "import re\n",
        "corpus = []\n",
        "for i in range(len(sentences)):\n",
        "  review = re.sub('[^a-zA-Z]',' ',sentences[i])\n",
        "  review = review.lower()\n",
        "  corpus.append(review)\n",
        "\n",
        "\n"
      ],
      "metadata": {
        "id": "4uxLCxFMOZyV"
      },
      "execution_count": null,
      "outputs": []
    },
    {
      "cell_type": "code",
      "source": [
        "corpus"
      ],
      "metadata": {
        "colab": {
          "base_uri": "https://localhost:8080/"
        },
        "id": "OkXXm3aBPeHq",
        "outputId": "b4fcc067-fbc0-4e8a-96bd-47b06929f0ac"
      },
      "execution_count": null,
      "outputs": [
        {
          "output_type": "execute_result",
          "data": {
            "text/plain": [
              "['narendra damodardas modi  gujarati    n  end   d mod   d s  modi      born    september       b  is an indian politician who has served as the   th prime minister of india since may      ',\n",
              " 'modi was the chief minister of gujarat from      to      and is the member of parliament  mp  for varanasi ',\n",
              " 'he is a member of the bharatiya janata party  bjp  and of the rashtriya swayamsevak sangh  rss   a right wing hindu nationalist paramilitary volunteer organisation ',\n",
              " 'he is the longest serving prime minister from outside the indian national congress ',\n",
              " 'modi was born and raised in vadnagar in northeastern gujarat  where he completed his secondary education ',\n",
              " 'he was introduced to the rss at the age of eight ',\n",
              " 'his account of helping his father sell tea at the vadnagar railway station has not been reliably corroborated ',\n",
              " 'at age     he was married to jashodaben modi  whom he abandoned soon after  only publicly acknowledging her four decades later when legally required to do so ',\n",
              " 'modi became a full time worker for the rss in gujarat in      ',\n",
              " 'the rss assigned him to the bjp in      and he held several positions within the party hierarchy until       rising to the rank of general secretary ',\n",
              " ' c ']"
            ]
          },
          "metadata": {},
          "execution_count": 37
        }
      ]
    },
    {
      "cell_type": "code",
      "source": [
        "#Stemming\n",
        "for i in corpus:\n",
        "  print(i)\n"
      ],
      "metadata": {
        "colab": {
          "base_uri": "https://localhost:8080/"
        },
        "id": "opm7PD3hP4vC",
        "outputId": "8f464567-804c-4dbc-cd2e-06c6f8dc44a7"
      },
      "execution_count": null,
      "outputs": [
        {
          "output_type": "stream",
          "name": "stdout",
          "text": [
            "narendra damodardas modi  gujarati    n  end   d mod   d s  modi      born    september       b  is an indian politician who has served as the   th prime minister of india since may      \n",
            "modi was the chief minister of gujarat from      to      and is the member of parliament  mp  for varanasi \n",
            "he is a member of the bharatiya janata party  bjp  and of the rashtriya swayamsevak sangh  rss   a right wing hindu nationalist paramilitary volunteer organisation \n",
            "he is the longest serving prime minister from outside the indian national congress \n",
            "modi was born and raised in vadnagar in northeastern gujarat  where he completed his secondary education \n",
            "he was introduced to the rss at the age of eight \n",
            "his account of helping his father sell tea at the vadnagar railway station has not been reliably corroborated \n",
            "at age     he was married to jashodaben modi  whom he abandoned soon after  only publicly acknowledging her four decades later when legally required to do so \n",
            "modi became a full time worker for the rss in gujarat in      \n",
            "the rss assigned him to the bjp in      and he held several positions within the party hierarchy until       rising to the rank of general secretary \n",
            " c \n"
          ]
        }
      ]
    },
    {
      "cell_type": "code",
      "source": [
        "import nltk\n",
        "nltk.download('stopwords')"
      ],
      "metadata": {
        "colab": {
          "base_uri": "https://localhost:8080/"
        },
        "id": "XwExWo9FRyx7",
        "outputId": "47cc6646-49c1-4eef-cf65-32f3798a44e5"
      },
      "execution_count": null,
      "outputs": [
        {
          "output_type": "stream",
          "name": "stderr",
          "text": [
            "[nltk_data] Downloading package stopwords to /root/nltk_data...\n",
            "[nltk_data]   Unzipping corpora/stopwords.zip.\n"
          ]
        },
        {
          "output_type": "execute_result",
          "data": {
            "text/plain": [
              "True"
            ]
          },
          "metadata": {},
          "execution_count": 44
        }
      ]
    },
    {
      "cell_type": "code",
      "source": [
        "stopwords.words('english')"
      ],
      "metadata": {
        "colab": {
          "base_uri": "https://localhost:8080/"
        },
        "id": "QS6eZerfSImk",
        "outputId": "bd493dd0-6d59-413d-9921-abc1df62cefd"
      },
      "execution_count": null,
      "outputs": [
        {
          "output_type": "execute_result",
          "data": {
            "text/plain": [
              "['i',\n",
              " 'me',\n",
              " 'my',\n",
              " 'myself',\n",
              " 'we',\n",
              " 'our',\n",
              " 'ours',\n",
              " 'ourselves',\n",
              " 'you',\n",
              " \"you're\",\n",
              " \"you've\",\n",
              " \"you'll\",\n",
              " \"you'd\",\n",
              " 'your',\n",
              " 'yours',\n",
              " 'yourself',\n",
              " 'yourselves',\n",
              " 'he',\n",
              " 'him',\n",
              " 'his',\n",
              " 'himself',\n",
              " 'she',\n",
              " \"she's\",\n",
              " 'her',\n",
              " 'hers',\n",
              " 'herself',\n",
              " 'it',\n",
              " \"it's\",\n",
              " 'its',\n",
              " 'itself',\n",
              " 'they',\n",
              " 'them',\n",
              " 'their',\n",
              " 'theirs',\n",
              " 'themselves',\n",
              " 'what',\n",
              " 'which',\n",
              " 'who',\n",
              " 'whom',\n",
              " 'this',\n",
              " 'that',\n",
              " \"that'll\",\n",
              " 'these',\n",
              " 'those',\n",
              " 'am',\n",
              " 'is',\n",
              " 'are',\n",
              " 'was',\n",
              " 'were',\n",
              " 'be',\n",
              " 'been',\n",
              " 'being',\n",
              " 'have',\n",
              " 'has',\n",
              " 'had',\n",
              " 'having',\n",
              " 'do',\n",
              " 'does',\n",
              " 'did',\n",
              " 'doing',\n",
              " 'a',\n",
              " 'an',\n",
              " 'the',\n",
              " 'and',\n",
              " 'but',\n",
              " 'if',\n",
              " 'or',\n",
              " 'because',\n",
              " 'as',\n",
              " 'until',\n",
              " 'while',\n",
              " 'of',\n",
              " 'at',\n",
              " 'by',\n",
              " 'for',\n",
              " 'with',\n",
              " 'about',\n",
              " 'against',\n",
              " 'between',\n",
              " 'into',\n",
              " 'through',\n",
              " 'during',\n",
              " 'before',\n",
              " 'after',\n",
              " 'above',\n",
              " 'below',\n",
              " 'to',\n",
              " 'from',\n",
              " 'up',\n",
              " 'down',\n",
              " 'in',\n",
              " 'out',\n",
              " 'on',\n",
              " 'off',\n",
              " 'over',\n",
              " 'under',\n",
              " 'again',\n",
              " 'further',\n",
              " 'then',\n",
              " 'once',\n",
              " 'here',\n",
              " 'there',\n",
              " 'when',\n",
              " 'where',\n",
              " 'why',\n",
              " 'how',\n",
              " 'all',\n",
              " 'any',\n",
              " 'both',\n",
              " 'each',\n",
              " 'few',\n",
              " 'more',\n",
              " 'most',\n",
              " 'other',\n",
              " 'some',\n",
              " 'such',\n",
              " 'no',\n",
              " 'nor',\n",
              " 'not',\n",
              " 'only',\n",
              " 'own',\n",
              " 'same',\n",
              " 'so',\n",
              " 'than',\n",
              " 'too',\n",
              " 'very',\n",
              " 's',\n",
              " 't',\n",
              " 'can',\n",
              " 'will',\n",
              " 'just',\n",
              " 'don',\n",
              " \"don't\",\n",
              " 'should',\n",
              " \"should've\",\n",
              " 'now',\n",
              " 'd',\n",
              " 'll',\n",
              " 'm',\n",
              " 'o',\n",
              " 're',\n",
              " 've',\n",
              " 'y',\n",
              " 'ain',\n",
              " 'aren',\n",
              " \"aren't\",\n",
              " 'couldn',\n",
              " \"couldn't\",\n",
              " 'didn',\n",
              " \"didn't\",\n",
              " 'doesn',\n",
              " \"doesn't\",\n",
              " 'hadn',\n",
              " \"hadn't\",\n",
              " 'hasn',\n",
              " \"hasn't\",\n",
              " 'haven',\n",
              " \"haven't\",\n",
              " 'isn',\n",
              " \"isn't\",\n",
              " 'ma',\n",
              " 'mightn',\n",
              " \"mightn't\",\n",
              " 'mustn',\n",
              " \"mustn't\",\n",
              " 'needn',\n",
              " \"needn't\",\n",
              " 'shan',\n",
              " \"shan't\",\n",
              " 'shouldn',\n",
              " \"shouldn't\",\n",
              " 'wasn',\n",
              " \"wasn't\",\n",
              " 'weren',\n",
              " \"weren't\",\n",
              " 'won',\n",
              " \"won't\",\n",
              " 'wouldn',\n",
              " \"wouldn't\"]"
            ]
          },
          "metadata": {},
          "execution_count": 46
        }
      ]
    },
    {
      "cell_type": "code",
      "source": [
        "for i in corpus:\n",
        "  words = nltk.word_tokenize(i)\n",
        "  for word in words:\n",
        "    if word not in set(stopwords.words('english')):\n",
        "      print(stemmer.stem(word))"
      ],
      "metadata": {
        "colab": {
          "base_uri": "https://localhost:8080/"
        },
        "id": "o1JnkTblQz8Z",
        "outputId": "4860bb13-6bc3-4583-cfaf-ee7ceb76e031"
      },
      "execution_count": null,
      "outputs": [
        {
          "output_type": "stream",
          "name": "stdout",
          "text": [
            "narendra\n",
            "damodarda\n",
            "modi\n",
            "gujarati\n",
            "n\n",
            "end\n",
            "mod\n",
            "modi\n",
            "born\n",
            "septemb\n",
            "b\n",
            "indian\n",
            "politician\n",
            "serv\n",
            "th\n",
            "prime\n",
            "minist\n",
            "india\n",
            "sinc\n",
            "may\n",
            "modi\n",
            "chief\n",
            "minist\n",
            "gujarat\n",
            "member\n",
            "parliament\n",
            "mp\n",
            "varanasi\n",
            "member\n",
            "bharatiya\n",
            "janata\n",
            "parti\n",
            "bjp\n",
            "rashtriya\n",
            "swayamsevak\n",
            "sangh\n",
            "rss\n",
            "right\n",
            "wing\n",
            "hindu\n",
            "nationalist\n",
            "paramilitari\n",
            "volunt\n",
            "organis\n",
            "longest\n",
            "serv\n",
            "prime\n",
            "minist\n",
            "outsid\n",
            "indian\n",
            "nation\n",
            "congress\n",
            "modi\n",
            "born\n",
            "rais\n",
            "vadnagar\n",
            "northeastern\n",
            "gujarat\n",
            "complet\n",
            "secondari\n",
            "educ\n",
            "introduc\n",
            "rss\n",
            "age\n",
            "eight\n",
            "account\n",
            "help\n",
            "father\n",
            "sell\n",
            "tea\n",
            "vadnagar\n",
            "railway\n",
            "station\n",
            "reliabl\n",
            "corrobor\n",
            "age\n",
            "marri\n",
            "jashodaben\n",
            "modi\n",
            "abandon\n",
            "soon\n",
            "publicli\n",
            "acknowledg\n",
            "four\n",
            "decad\n",
            "later\n",
            "legal\n",
            "requir\n",
            "modi\n",
            "becam\n",
            "full\n",
            "time\n",
            "worker\n",
            "rss\n",
            "gujarat\n",
            "rss\n",
            "assign\n",
            "bjp\n",
            "held\n",
            "sever\n",
            "posit\n",
            "within\n",
            "parti\n",
            "hierarchi\n",
            "rise\n",
            "rank\n",
            "gener\n",
            "secretari\n",
            "c\n"
          ]
        }
      ]
    },
    {
      "cell_type": "code",
      "source": [
        "## Lemmatization\n",
        "for i in corpus:\n",
        "  words = nltk.word_tokenize(i)\n",
        "  for word in words:\n",
        "    if word not in set(stopwords.words('english')):\n",
        "      print(lemmatizer.lemmatize(word))"
      ],
      "metadata": {
        "colab": {
          "base_uri": "https://localhost:8080/"
        },
        "id": "VqFTaNNtRGv1",
        "outputId": "4e45cc70-013f-40a1-994d-41a0048ddc89"
      },
      "execution_count": null,
      "outputs": [
        {
          "output_type": "stream",
          "name": "stdout",
          "text": [
            "narendra\n",
            "damodardas\n",
            "modi\n",
            "gujarati\n",
            "n\n",
            "end\n",
            "mod\n",
            "modi\n",
            "born\n",
            "september\n",
            "b\n",
            "indian\n",
            "politician\n",
            "served\n",
            "th\n",
            "prime\n",
            "minister\n",
            "india\n",
            "since\n",
            "may\n",
            "modi\n",
            "chief\n",
            "minister\n",
            "gujarat\n",
            "member\n",
            "parliament\n",
            "mp\n",
            "varanasi\n",
            "member\n",
            "bharatiya\n",
            "janata\n",
            "party\n",
            "bjp\n",
            "rashtriya\n",
            "swayamsevak\n",
            "sangh\n",
            "r\n",
            "right\n",
            "wing\n",
            "hindu\n",
            "nationalist\n",
            "paramilitary\n",
            "volunteer\n",
            "organisation\n",
            "longest\n",
            "serving\n",
            "prime\n",
            "minister\n",
            "outside\n",
            "indian\n",
            "national\n",
            "congress\n",
            "modi\n",
            "born\n",
            "raised\n",
            "vadnagar\n",
            "northeastern\n",
            "gujarat\n",
            "completed\n",
            "secondary\n",
            "education\n",
            "introduced\n",
            "r\n",
            "age\n",
            "eight\n",
            "account\n",
            "helping\n",
            "father\n",
            "sell\n",
            "tea\n",
            "vadnagar\n",
            "railway\n",
            "station\n",
            "reliably\n",
            "corroborated\n",
            "age\n",
            "married\n",
            "jashodaben\n",
            "modi\n",
            "abandoned\n",
            "soon\n",
            "publicly\n",
            "acknowledging\n",
            "four\n",
            "decade\n",
            "later\n",
            "legally\n",
            "required\n",
            "modi\n",
            "became\n",
            "full\n",
            "time\n",
            "worker\n",
            "r\n",
            "gujarat\n",
            "r\n",
            "assigned\n",
            "bjp\n",
            "held\n",
            "several\n",
            "position\n",
            "within\n",
            "party\n",
            "hierarchy\n",
            "rising\n",
            "rank\n",
            "general\n",
            "secretary\n",
            "c\n"
          ]
        }
      ]
    },
    {
      "cell_type": "code",
      "source": [
        "## Apply stopwords-lemmatization\n",
        "import re\n",
        "corpus = []\n",
        "for i in range(len(sentences)):\n",
        "  review = re.sub('[^a-zA-Z]',' ',sentences[i])\n",
        "  review = review.lower()\n",
        "  review = review.split()\n",
        "  review = [lemmatizer.lemmatize(word) for word in review if not word in set(stopwords.words('english'))]\n",
        "  review = ' '.join(review)\n",
        "  corpus.append(review)\n"
      ],
      "metadata": {
        "id": "1EBP0LcLVwlN"
      },
      "execution_count": null,
      "outputs": []
    },
    {
      "cell_type": "code",
      "source": [
        "##Bag Of Words\n",
        "from sklearn.feature_extraction.text import CountVectorizer\n",
        "# cv = CountVectorizer(binary=True,ngram_range=(3,3)) #considers trigrams trigrams\n",
        "cv = CountVectorizer(binary=True,ngram_range=(2,3)) #considers bigrams and trigrams"
      ],
      "metadata": {
        "id": "ikPMuU-fSxR3"
      },
      "execution_count": null,
      "outputs": []
    },
    {
      "cell_type": "code",
      "source": [
        "X = cv.fit_transform(corpus)"
      ],
      "metadata": {
        "id": "_l7kymXnTjGB"
      },
      "execution_count": null,
      "outputs": []
    },
    {
      "cell_type": "code",
      "source": [
        "cv.vocabulary_"
      ],
      "metadata": {
        "colab": {
          "base_uri": "https://localhost:8080/"
        },
        "id": "T56IDButUPV2",
        "outputId": "4533cf13-0153-4783-eccc-3915ebff312b"
      },
      "execution_count": null,
      "outputs": [
        {
          "output_type": "execute_result",
          "data": {
            "text/plain": [
              "{'narendra damodardas': 97,\n",
              " 'damodardas modi': 27,\n",
              " 'modi gujarati': 94,\n",
              " 'gujarati end': 44,\n",
              " 'end mod': 31,\n",
              " 'mod modi': 83,\n",
              " 'modi born': 89,\n",
              " 'born september': 21,\n",
              " 'september indian': 141,\n",
              " 'indian politician': 58,\n",
              " 'politician served': 114,\n",
              " 'served th': 143,\n",
              " 'th prime': 158,\n",
              " 'prime minister': 118,\n",
              " 'minister india': 79,\n",
              " 'india since': 54,\n",
              " 'since may': 149,\n",
              " 'narendra damodardas modi': 98,\n",
              " 'damodardas modi gujarati': 28,\n",
              " 'modi gujarati end': 95,\n",
              " 'gujarati end mod': 45,\n",
              " 'end mod modi': 32,\n",
              " 'mod modi born': 84,\n",
              " 'modi born september': 91,\n",
              " 'born september indian': 22,\n",
              " 'september indian politician': 142,\n",
              " 'indian politician served': 59,\n",
              " 'politician served th': 115,\n",
              " 'served th prime': 144,\n",
              " 'th prime minister': 159,\n",
              " 'prime minister india': 119,\n",
              " 'minister india since': 80,\n",
              " 'india since may': 55,\n",
              " 'modi chief': 92,\n",
              " 'chief minister': 23,\n",
              " 'minister gujarat': 77,\n",
              " 'gujarat member': 42,\n",
              " 'member parliament': 75,\n",
              " 'parliament mp': 108,\n",
              " 'mp varanasi': 96,\n",
              " 'modi chief minister': 93,\n",
              " 'chief minister gujarat': 24,\n",
              " 'minister gujarat member': 78,\n",
              " 'gujarat member parliament': 43,\n",
              " 'member parliament mp': 76,\n",
              " 'parliament mp varanasi': 109,\n",
              " 'member bharatiya': 73,\n",
              " 'bharatiya janata': 13,\n",
              " 'janata party': 62,\n",
              " 'party bjp': 110,\n",
              " 'bjp rashtriya': 17,\n",
              " 'rashtriya swayamsevak': 129,\n",
              " 'swayamsevak sangh': 154,\n",
              " 'sangh right': 136,\n",
              " 'right wing': 132,\n",
              " 'wing hindu': 167,\n",
              " 'hindu nationalist': 52,\n",
              " 'nationalist paramilitary': 100,\n",
              " 'paramilitary volunteer': 106,\n",
              " 'volunteer organisation': 166,\n",
              " 'member bharatiya janata': 74,\n",
              " 'bharatiya janata party': 14,\n",
              " 'janata party bjp': 63,\n",
              " 'party bjp rashtriya': 111,\n",
              " 'bjp rashtriya swayamsevak': 18,\n",
              " 'rashtriya swayamsevak sangh': 130,\n",
              " 'swayamsevak sangh right': 155,\n",
              " 'sangh right wing': 137,\n",
              " 'right wing hindu': 133,\n",
              " 'wing hindu nationalist': 168,\n",
              " 'hindu nationalist paramilitary': 53,\n",
              " 'nationalist paramilitary volunteer': 101,\n",
              " 'paramilitary volunteer organisation': 107,\n",
              " 'longest serving': 69,\n",
              " 'serving prime': 145,\n",
              " 'minister outside': 81,\n",
              " 'outside indian': 104,\n",
              " 'indian national': 56,\n",
              " 'national congress': 99,\n",
              " 'longest serving prime': 70,\n",
              " 'serving prime minister': 146,\n",
              " 'prime minister outside': 120,\n",
              " 'minister outside indian': 82,\n",
              " 'outside indian national': 105,\n",
              " 'indian national congress': 57,\n",
              " 'born raised': 19,\n",
              " 'raised vadnagar': 125,\n",
              " 'vadnagar northeastern': 162,\n",
              " 'northeastern gujarat': 102,\n",
              " 'gujarat completed': 40,\n",
              " 'completed secondary': 25,\n",
              " 'secondary education': 138,\n",
              " 'modi born raised': 90,\n",
              " 'born raised vadnagar': 20,\n",
              " 'raised vadnagar northeastern': 126,\n",
              " 'vadnagar northeastern gujarat': 163,\n",
              " 'northeastern gujarat completed': 103,\n",
              " 'gujarat completed secondary': 41,\n",
              " 'completed secondary education': 26,\n",
              " 'introduced age': 60,\n",
              " 'age eight': 6,\n",
              " 'introduced age eight': 61,\n",
              " 'account helping': 2,\n",
              " 'helping father': 48,\n",
              " 'father sell': 33,\n",
              " 'sell tea': 139,\n",
              " 'tea vadnagar': 156,\n",
              " 'vadnagar railway': 164,\n",
              " 'railway station': 123,\n",
              " 'station reliably': 152,\n",
              " 'reliably corroborated': 131,\n",
              " 'account helping father': 3,\n",
              " 'helping father sell': 49,\n",
              " 'father sell tea': 34,\n",
              " 'sell tea vadnagar': 140,\n",
              " 'tea vadnagar railway': 157,\n",
              " 'vadnagar railway station': 165,\n",
              " 'railway station reliably': 124,\n",
              " 'station reliably corroborated': 153,\n",
              " 'age married': 7,\n",
              " 'married jashodaben': 71,\n",
              " 'jashodaben modi': 64,\n",
              " 'modi abandoned': 85,\n",
              " 'abandoned soon': 0,\n",
              " 'soon publicly': 150,\n",
              " 'publicly acknowledging': 121,\n",
              " 'acknowledging four': 4,\n",
              " 'four decade': 35,\n",
              " 'decade later': 29,\n",
              " 'later legally': 66,\n",
              " 'legally required': 68,\n",
              " 'age married jashodaben': 8,\n",
              " 'married jashodaben modi': 72,\n",
              " 'jashodaben modi abandoned': 65,\n",
              " 'modi abandoned soon': 86,\n",
              " 'abandoned soon publicly': 1,\n",
              " 'soon publicly acknowledging': 151,\n",
              " 'publicly acknowledging four': 122,\n",
              " 'acknowledging four decade': 5,\n",
              " 'four decade later': 36,\n",
              " 'decade later legally': 30,\n",
              " 'later legally required': 67,\n",
              " 'modi became': 87,\n",
              " 'became full': 11,\n",
              " 'full time': 37,\n",
              " 'time worker': 160,\n",
              " 'worker gujarat': 171,\n",
              " 'modi became full': 88,\n",
              " 'became full time': 12,\n",
              " 'full time worker': 38,\n",
              " 'time worker gujarat': 161,\n",
              " 'assigned bjp': 9,\n",
              " 'bjp held': 15,\n",
              " 'held several': 46,\n",
              " 'several position': 147,\n",
              " 'position within': 116,\n",
              " 'within party': 169,\n",
              " 'party hierarchy': 112,\n",
              " 'hierarchy rising': 50,\n",
              " 'rising rank': 134,\n",
              " 'rank general': 127,\n",
              " 'general secretary': 39,\n",
              " 'assigned bjp held': 10,\n",
              " 'bjp held several': 16,\n",
              " 'held several position': 47,\n",
              " 'several position within': 148,\n",
              " 'position within party': 117,\n",
              " 'within party hierarchy': 170,\n",
              " 'party hierarchy rising': 113,\n",
              " 'hierarchy rising rank': 51,\n",
              " 'rising rank general': 135,\n",
              " 'rank general secretary': 128}"
            ]
          },
          "metadata": {},
          "execution_count": 80
        }
      ]
    },
    {
      "cell_type": "code",
      "source": [
        "print(corpus)\n"
      ],
      "metadata": {
        "colab": {
          "base_uri": "https://localhost:8080/"
        },
        "id": "3ju_3bjnUYSF",
        "outputId": "9277f54a-428f-45e5-fba1-8d1209ae5eef"
      },
      "execution_count": null,
      "outputs": [
        {
          "output_type": "stream",
          "name": "stdout",
          "text": [
            "['narendra damodardas modi gujarati n end mod modi born september b indian politician served th prime minister india since may', 'modi chief minister gujarat member parliament mp varanasi', 'member bharatiya janata party bjp rashtriya swayamsevak sangh r right wing hindu nationalist paramilitary volunteer organisation', 'longest serving prime minister outside indian national congress', 'modi born raised vadnagar northeastern gujarat completed secondary education', 'introduced r age eight', 'account helping father sell tea vadnagar railway station reliably corroborated', 'age married jashodaben modi abandoned soon publicly acknowledging four decade later legally required', 'modi became full time worker r gujarat', 'r assigned bjp held several position within party hierarchy rising rank general secretary', 'c']\n"
          ]
        }
      ]
    },
    {
      "cell_type": "code",
      "source": [
        "corpus[0]"
      ],
      "metadata": {
        "colab": {
          "base_uri": "https://localhost:8080/",
          "height": 35
        },
        "id": "Ghbyl_TjUnd8",
        "outputId": "965624c4-5e8a-4316-a19d-859750d127d2"
      },
      "execution_count": null,
      "outputs": [
        {
          "output_type": "execute_result",
          "data": {
            "text/plain": [
              "'narendra damodardas modi gujarati n end mod modi born september b indian politician served th prime minister india since may'"
            ],
            "application/vnd.google.colaboratory.intrinsic+json": {
              "type": "string"
            }
          },
          "metadata": {},
          "execution_count": 82
        }
      ]
    },
    {
      "cell_type": "code",
      "source": [
        "## Print BOW for 1st sentence ie above sentence\n",
        "X[0].toarray()"
      ],
      "metadata": {
        "colab": {
          "base_uri": "https://localhost:8080/"
        },
        "id": "FCHOmtPIUpZh",
        "outputId": "7f05e18a-9d3a-47a9-e25f-c5988b0e3517"
      },
      "execution_count": null,
      "outputs": [
        {
          "output_type": "execute_result",
          "data": {
            "text/plain": [
              "array([[0, 0, 0, 0, 0, 0, 0, 0, 0, 0, 0, 0, 0, 0, 0, 0, 0, 0, 0, 0, 0, 1,\n",
              "        1, 0, 0, 0, 0, 1, 1, 0, 0, 1, 1, 0, 0, 0, 0, 0, 0, 0, 0, 0, 0, 0,\n",
              "        1, 1, 0, 0, 0, 0, 0, 0, 0, 0, 1, 1, 0, 0, 1, 1, 0, 0, 0, 0, 0, 0,\n",
              "        0, 0, 0, 0, 0, 0, 0, 0, 0, 0, 0, 0, 0, 1, 1, 0, 0, 1, 1, 0, 0, 0,\n",
              "        0, 1, 0, 1, 0, 0, 1, 1, 0, 1, 1, 0, 0, 0, 0, 0, 0, 0, 0, 0, 0, 0,\n",
              "        0, 0, 0, 0, 1, 1, 0, 0, 1, 1, 0, 0, 0, 0, 0, 0, 0, 0, 0, 0, 0, 0,\n",
              "        0, 0, 0, 0, 0, 0, 0, 0, 0, 1, 1, 1, 1, 0, 0, 0, 0, 1, 0, 0, 0, 0,\n",
              "        0, 0, 0, 0, 1, 1, 0, 0, 0, 0, 0, 0, 0, 0, 0, 0, 0, 0]])"
            ]
          },
          "metadata": {},
          "execution_count": 83
        }
      ]
    },
    {
      "cell_type": "code",
      "source": [
        "### TFIDF\n",
        "\n",
        "from sklearn.feature_extraction.text import TfidfVectorizer\n",
        "cv = TfidfVectorizer(ngram_range=(1,3),max_features=10)\n",
        "X = cv.fit_transform(corpus)"
      ],
      "metadata": {
        "id": "GI3KhKgKU3IE"
      },
      "execution_count": null,
      "outputs": []
    },
    {
      "cell_type": "code",
      "source": [
        "corpus[0]"
      ],
      "metadata": {
        "colab": {
          "base_uri": "https://localhost:8080/",
          "height": 35
        },
        "id": "4NayrOtREY3e",
        "outputId": "999b56f7-33b0-4cdd-e71a-120013810255"
      },
      "execution_count": null,
      "outputs": [
        {
          "output_type": "execute_result",
          "data": {
            "text/plain": [
              "'narendra damodardas modi gujarati n end mod modi born september b indian politician served th prime minister india since may'"
            ],
            "application/vnd.google.colaboratory.intrinsic+json": {
              "type": "string"
            }
          },
          "metadata": {},
          "execution_count": 103
        }
      ]
    },
    {
      "cell_type": "code",
      "source": [
        "X[0].toarray()"
      ],
      "metadata": {
        "colab": {
          "base_uri": "https://localhost:8080/"
        },
        "id": "VW2wiNIXEaOo",
        "outputId": "80bec0b9-7796-46b2-e330-4d89a3ecbd7f"
      },
      "execution_count": null,
      "outputs": [
        {
          "output_type": "execute_result",
          "data": {
            "text/plain": [
              "array([[0.35835268, 0.        , 0.35835268, 0.31515112, 0.50852388,\n",
              "        0.35835268, 0.        , 0.35835268, 0.35835268, 0.        ]])"
            ]
          },
          "metadata": {},
          "execution_count": 104
        }
      ]
    },
    {
      "cell_type": "code",
      "source": [],
      "metadata": {
        "id": "XgtcNcwOEct0"
      },
      "execution_count": null,
      "outputs": []
    }
  ]
}